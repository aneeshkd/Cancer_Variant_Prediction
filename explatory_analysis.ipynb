{
 "cells": [
  {
   "cell_type": "code",
   "execution_count": 41,
   "id": "f4567b2d",
   "metadata": {},
   "outputs": [
    {
     "name": "stdout",
     "output_type": "stream",
     "text": [
      "The autoreload extension is already loaded. To reload it, use:\n",
      "  %reload_ext autoreload\n"
     ]
    }
   ],
   "source": [
    "%load_ext autoreload\n",
    "%autoreload 2\n",
    "\n",
    "import numpy as np\n",
    "import pandas as pd \n",
    "import requests\n",
    "import re \n",
    "import time, random, sys\n",
    "import os \n",
    "import json\n",
    "import sys\n",
    "\n",
    "from cyvcf2 import VCF, Writer \n",
    "from Bio.Data import IUPACData\n",
    "from Bio import SeqIO\n",
    "\n",
    "import torch\n",
    "import esm\n",
    "from sklearn.model_selection import train_test_split\n",
    "\n",
    "from src.process_clinvar_cosmic import extract_missense_variants, extract_cosmic_variants, map_gene_symbols, harmonize_data\n",
    "from src.fetch_uniprot import fetch_uniprot_fasta\n",
    "from src.esm_embeddings import featurize_delta\n",
    "from src import train\n"
   ]
  },
  {
   "cell_type": "code",
   "execution_count": null,
   "id": "88c726f2",
   "metadata": {},
   "outputs": [
    {
     "name": "stdout",
     "output_type": "stream",
     "text": [
      "mismatch: 61_ABL1 seq[pos-1] vs wt_aa\n",
      "mismatch: 62_ABL1 seq[pos-1] vs wt_aa\n",
      "mismatch: 63_ABL1 seq[pos-1] vs wt_aa\n",
      "mismatch: 70_MUSK seq[pos-1] vs wt_aa\n",
      "mismatch: 71_MUSK seq[pos-1] vs wt_aa\n",
      "mismatch: 72_MUSK seq[pos-1] vs wt_aa\n",
      "mismatch: 73_MUSK seq[pos-1] vs wt_aa\n",
      "mismatch: 74_MUSK seq[pos-1] vs wt_aa\n",
      "mismatch: 76_MUSK seq[pos-1] vs wt_aa\n",
      "mismatch: 77_MUSK seq[pos-1] vs wt_aa\n",
      "mismatch: 78_MUSK seq[pos-1] vs wt_aa\n",
      "mismatch: 79_MUSK seq[pos-1] vs wt_aa\n",
      "mismatch: 80_MUSK seq[pos-1] vs wt_aa\n"
     ]
    }
   ],
   "source": [
    "npz_path = featurize_delta(\n",
    "    harmonized_csv=\"data/intermediate/harmonized.csv\",\n",
    ")\n",
    "\n",
    "results = train.main(\"data/esm_embeddings/kinase_variants_delta_pca.npz\")"
   ]
  },
  {
   "cell_type": "code",
   "execution_count": 42,
   "id": "e6a89973",
   "metadata": {},
   "outputs": [
    {
     "name": "stdout",
     "output_type": "stream",
     "text": [
      "Fold 0: AUC=nan, PR-AUC=0.000, ACC=1.000\n",
      "Fold 1: AUC=nan, PR-AUC=0.000, ACC=1.000\n",
      "Fold 2: AUC=nan, PR-AUC=0.000, ACC=1.000\n",
      "Fold 3: AUC=nan, PR-AUC=0.000, ACC=1.000\n",
      "Fold 4: AUC=nan, PR-AUC=0.000, ACC=1.000\n",
      "Mean AUC: nan\n",
      "Mean PR-AUC: 0.0\n",
      "Mean Accuracy: 1.0\n"
     ]
    },
    {
     "name": "stderr",
     "output_type": "stream",
     "text": [
      "/Users/aneeshdalvi/Desktop/Cancer_Variant_Prediction/src/train.py:18: RuntimeWarning: divide by zero encountered in scalar divide\n",
      "  pos_weight = (sum(y == 0) / sum(y == 1))\n",
      "[21:45:39] WARNING: /Users/runner/miniforge3/conda-bld/xgboost-split_1758007651359/work/src/learner.cc:738: \n",
      "Parameters: { \"use_label_encoder\" } are not used.\n",
      "\n",
      "/Users/aneeshdalvi/miniconda3/envs/cancer_var_pred/lib/python3.12/site-packages/sklearn/metrics/_ranking.py:424: UndefinedMetricWarning: Only one class is present in y_true. ROC AUC score is not defined in that case.\n",
      "  warnings.warn(\n",
      "/Users/aneeshdalvi/miniconda3/envs/cancer_var_pred/lib/python3.12/site-packages/sklearn/metrics/_ranking.py:1046: UserWarning: No positive class found in y_true, recall is set to one for all thresholds.\n",
      "  warnings.warn(\n",
      "[21:45:39] WARNING: /Users/runner/miniforge3/conda-bld/xgboost-split_1758007651359/work/src/learner.cc:738: \n",
      "Parameters: { \"use_label_encoder\" } are not used.\n",
      "\n",
      "/Users/aneeshdalvi/miniconda3/envs/cancer_var_pred/lib/python3.12/site-packages/sklearn/metrics/_ranking.py:424: UndefinedMetricWarning: Only one class is present in y_true. ROC AUC score is not defined in that case.\n",
      "  warnings.warn(\n",
      "/Users/aneeshdalvi/miniconda3/envs/cancer_var_pred/lib/python3.12/site-packages/sklearn/metrics/_ranking.py:1046: UserWarning: No positive class found in y_true, recall is set to one for all thresholds.\n",
      "  warnings.warn(\n",
      "[21:45:39] WARNING: /Users/runner/miniforge3/conda-bld/xgboost-split_1758007651359/work/src/learner.cc:738: \n",
      "Parameters: { \"use_label_encoder\" } are not used.\n",
      "\n",
      "/Users/aneeshdalvi/miniconda3/envs/cancer_var_pred/lib/python3.12/site-packages/sklearn/metrics/_ranking.py:424: UndefinedMetricWarning: Only one class is present in y_true. ROC AUC score is not defined in that case.\n",
      "  warnings.warn(\n",
      "/Users/aneeshdalvi/miniconda3/envs/cancer_var_pred/lib/python3.12/site-packages/sklearn/metrics/_ranking.py:1046: UserWarning: No positive class found in y_true, recall is set to one for all thresholds.\n",
      "  warnings.warn(\n",
      "[21:45:39] WARNING: /Users/runner/miniforge3/conda-bld/xgboost-split_1758007651359/work/src/learner.cc:738: \n",
      "Parameters: { \"use_label_encoder\" } are not used.\n",
      "\n",
      "/Users/aneeshdalvi/miniconda3/envs/cancer_var_pred/lib/python3.12/site-packages/sklearn/metrics/_ranking.py:424: UndefinedMetricWarning: Only one class is present in y_true. ROC AUC score is not defined in that case.\n",
      "  warnings.warn(\n",
      "/Users/aneeshdalvi/miniconda3/envs/cancer_var_pred/lib/python3.12/site-packages/sklearn/metrics/_ranking.py:1046: UserWarning: No positive class found in y_true, recall is set to one for all thresholds.\n",
      "  warnings.warn(\n",
      "[21:45:39] WARNING: /Users/runner/miniforge3/conda-bld/xgboost-split_1758007651359/work/src/learner.cc:738: \n",
      "Parameters: { \"use_label_encoder\" } are not used.\n",
      "\n",
      "/Users/aneeshdalvi/miniconda3/envs/cancer_var_pred/lib/python3.12/site-packages/sklearn/metrics/_ranking.py:424: UndefinedMetricWarning: Only one class is present in y_true. ROC AUC score is not defined in that case.\n",
      "  warnings.warn(\n",
      "/Users/aneeshdalvi/miniconda3/envs/cancer_var_pred/lib/python3.12/site-packages/sklearn/metrics/_ranking.py:1046: UserWarning: No positive class found in y_true, recall is set to one for all thresholds.\n",
      "  warnings.warn(\n"
     ]
    }
   ],
   "source": [
    "results = train.main(\"data/esm_embeddings/kinase_variants_delta_pca.npz\")"
   ]
  },
  {
   "cell_type": "code",
   "execution_count": null,
   "id": "2587075d",
   "metadata": {},
   "outputs": [],
   "source": []
  }
 ],
 "metadata": {
  "kernelspec": {
   "display_name": "cancer_var_pred",
   "language": "python",
   "name": "python3"
  },
  "language_info": {
   "codemirror_mode": {
    "name": "ipython",
    "version": 3
   },
   "file_extension": ".py",
   "mimetype": "text/x-python",
   "name": "python",
   "nbconvert_exporter": "python",
   "pygments_lexer": "ipython3",
   "version": "3.12.11"
  }
 },
 "nbformat": 4,
 "nbformat_minor": 5
}
