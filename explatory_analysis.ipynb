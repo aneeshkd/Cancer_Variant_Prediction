{
 "cells": [
  {
   "cell_type": "code",
   "execution_count": 52,
   "id": "f4567b2d",
   "metadata": {},
   "outputs": [
    {
     "name": "stdout",
     "output_type": "stream",
     "text": [
      "The autoreload extension is already loaded. To reload it, use:\n",
      "  %reload_ext autoreload\n"
     ]
    }
   ],
   "source": [
    "%load_ext autoreload\n",
    "%autoreload 2\n",
    "import numpy as np\n",
    "import pandas as pd \n",
    "import requests\n",
    "import re \n",
    "import time, random, sys\n",
    "import os \n",
    "import json\n",
    "import sys\n",
    "import matplotlib.pyplot as plt\n",
    "\n",
    "from cyvcf2 import VCF, Writer \n",
    "\n",
    "import torch\n",
    "import esm\n",
    "from xgboost import XGBClassifier\n",
    "from sklearn.model_selection import train_test_split\n",
    "\n",
    "from Bio.Data import IUPACData\n",
    "from Bio import SeqIO\n",
    "\n",
    "from src.preprocessing.process_clinvar_cosmic import extract_missense_variants, extract_cosmic_variants, harmonize_data\n",
    "from src.preprocessing.variant_helpers import map_gene_symbols\n",
    "from src.preprocessing.fetch_uniprot import fetch_uniprot_fasta\n",
    "from src.embeddings.esm_embeddings import featurize_delta\n",
    "from src.training.train import load_data, run_xgb\n",
    "from src.prediction.predict import predict"
   ]
  },
  {
   "cell_type": "code",
   "execution_count": null,
   "id": "00d2b310",
   "metadata": {},
   "outputs": [],
   "source": [
    "csv_path = \"data/intermediate/test_df.csv\"\n",
    "outdir = \"TEMP_TEST\"\n",
    "\n",
    "fasta_path = os.path.join(outdir, \"fasta\")\n",
    "npz_path = os.path.join(outdir, \"npz\")\n",
    "npz_file = os.path.join(npz_path, \"embedding_deltas.npz\")\n",
    "out_csv = os.path.join(outdir, \"cancer_var_pred.csv\")\n",
    "\n",
    "os.makedirs(fasta_path)\n",
    "os.makedirs(npz_path)\n",
    "\n",
    "fetch_uniprot_fasta(csv_path, fasta_path)\n",
    "featurize_delta(csv_path, fasta_path, npz_file)\n",
    "predict(csv_path, npz_file, out_csv)"
   ]
  }
 ],
 "metadata": {
  "kernelspec": {
   "display_name": "cancer_var_pred",
   "language": "python",
   "name": "python3"
  },
  "language_info": {
   "codemirror_mode": {
    "name": "ipython",
    "version": 3
   },
   "file_extension": ".py",
   "mimetype": "text/x-python",
   "name": "python",
   "nbconvert_exporter": "python",
   "pygments_lexer": "ipython3",
   "version": "3.12.11"
  }
 },
 "nbformat": 4,
 "nbformat_minor": 5
}
